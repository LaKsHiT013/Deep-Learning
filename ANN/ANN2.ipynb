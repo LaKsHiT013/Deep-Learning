{
 "cells": [
  {
   "cell_type": "code",
   "execution_count": 2,
   "id": "1485b3d2-4366-4b60-8976-6022ab59b3a2",
   "metadata": {},
   "outputs": [],
   "source": [
    "import warnings\n",
    "warnings.filterwarnings('ignore')"
   ]
  },
  {
   "cell_type": "code",
   "execution_count": 3,
   "id": "255e8389-4dc1-44a6-b5b4-cc9414877c6d",
   "metadata": {},
   "outputs": [
    {
     "name": "stdout",
     "output_type": "stream",
     "text": [
      "WARNING:tensorflow:From C:\\Users\\laksh\\AppData\\Local\\Programs\\Python\\Python311\\Lib\\site-packages\\keras\\src\\losses.py:2976: The name tf.losses.sparse_softmax_cross_entropy is deprecated. Please use tf.compat.v1.losses.sparse_softmax_cross_entropy instead.\n",
      "\n"
     ]
    }
   ],
   "source": [
    "import pandas as pd\n",
    "import numpy as np\n",
    "import tensorflow as tf\n",
    "from tensorflow import keras\n",
    "from tensorflow.keras import layers\n",
    "from sklearn.model_selection import train_test_split"
   ]
  },
  {
   "cell_type": "code",
   "execution_count": 4,
   "id": "79bd0608-fe7b-45bb-85a0-b588496da45c",
   "metadata": {},
   "outputs": [],
   "source": [
    "df=pd.read_csv('Data.csv')"
   ]
  },
  {
   "cell_type": "code",
   "execution_count": 5,
   "id": "ffef6c97-151e-41c9-beba-9ab0ddb40ca3",
   "metadata": {},
   "outputs": [
    {
     "data": {
      "text/plain": [
       "id                     0\n",
       "gender                 0\n",
       "age                    0\n",
       "hypertension           0\n",
       "heart_disease          0\n",
       "ever_married           0\n",
       "work_type              0\n",
       "Residence_type         0\n",
       "avg_glucose_level      0\n",
       "bmi                  201\n",
       "smoking_status         0\n",
       "stroke                 0\n",
       "dtype: int64"
      ]
     },
     "execution_count": 5,
     "metadata": {},
     "output_type": "execute_result"
    }
   ],
   "source": [
    "df.isnull().sum()"
   ]
  },
  {
   "cell_type": "code",
   "execution_count": 6,
   "id": "ef6e5c9a-6ca4-49bd-8ac2-2aa158142ba9",
   "metadata": {},
   "outputs": [],
   "source": [
    "from sklearn.preprocessing import LabelEncoder\n",
    "\n",
    "label_encoder = LabelEncoder()\n",
    "for column in df.columns:\n",
    "    if df[column].dtype == 'object':\n",
    "        df[column] = label_encoder.fit_transform(df[column].astype(str))"
   ]
  },
  {
   "cell_type": "code",
   "execution_count": 7,
   "id": "51042763-9ef4-4f4e-9d0d-f548240094c8",
   "metadata": {},
   "outputs": [
    {
     "data": {
      "text/html": [
       "<div>\n",
       "<style scoped>\n",
       "    .dataframe tbody tr th:only-of-type {\n",
       "        vertical-align: middle;\n",
       "    }\n",
       "\n",
       "    .dataframe tbody tr th {\n",
       "        vertical-align: top;\n",
       "    }\n",
       "\n",
       "    .dataframe thead th {\n",
       "        text-align: right;\n",
       "    }\n",
       "</style>\n",
       "<table border=\"1\" class=\"dataframe\">\n",
       "  <thead>\n",
       "    <tr style=\"text-align: right;\">\n",
       "      <th></th>\n",
       "      <th>id</th>\n",
       "      <th>gender</th>\n",
       "      <th>age</th>\n",
       "      <th>hypertension</th>\n",
       "      <th>heart_disease</th>\n",
       "      <th>ever_married</th>\n",
       "      <th>work_type</th>\n",
       "      <th>Residence_type</th>\n",
       "      <th>avg_glucose_level</th>\n",
       "      <th>BMI</th>\n",
       "      <th>smoking_status</th>\n",
       "      <th>stroke</th>\n",
       "    </tr>\n",
       "  </thead>\n",
       "  <tbody>\n",
       "    <tr>\n",
       "      <th>0</th>\n",
       "      <td>9046</td>\n",
       "      <td>1</td>\n",
       "      <td>67.0</td>\n",
       "      <td>0</td>\n",
       "      <td>1</td>\n",
       "      <td>1</td>\n",
       "      <td>2</td>\n",
       "      <td>1</td>\n",
       "      <td>228.69</td>\n",
       "      <td>36.6</td>\n",
       "      <td>1</td>\n",
       "      <td>1</td>\n",
       "    </tr>\n",
       "    <tr>\n",
       "      <th>1</th>\n",
       "      <td>51676</td>\n",
       "      <td>0</td>\n",
       "      <td>61.0</td>\n",
       "      <td>0</td>\n",
       "      <td>0</td>\n",
       "      <td>1</td>\n",
       "      <td>3</td>\n",
       "      <td>0</td>\n",
       "      <td>202.21</td>\n",
       "      <td>NaN</td>\n",
       "      <td>2</td>\n",
       "      <td>1</td>\n",
       "    </tr>\n",
       "    <tr>\n",
       "      <th>2</th>\n",
       "      <td>31112</td>\n",
       "      <td>1</td>\n",
       "      <td>80.0</td>\n",
       "      <td>0</td>\n",
       "      <td>1</td>\n",
       "      <td>1</td>\n",
       "      <td>2</td>\n",
       "      <td>0</td>\n",
       "      <td>105.92</td>\n",
       "      <td>32.5</td>\n",
       "      <td>2</td>\n",
       "      <td>1</td>\n",
       "    </tr>\n",
       "    <tr>\n",
       "      <th>3</th>\n",
       "      <td>60182</td>\n",
       "      <td>0</td>\n",
       "      <td>49.0</td>\n",
       "      <td>0</td>\n",
       "      <td>0</td>\n",
       "      <td>1</td>\n",
       "      <td>2</td>\n",
       "      <td>1</td>\n",
       "      <td>171.23</td>\n",
       "      <td>34.4</td>\n",
       "      <td>3</td>\n",
       "      <td>1</td>\n",
       "    </tr>\n",
       "    <tr>\n",
       "      <th>4</th>\n",
       "      <td>1665</td>\n",
       "      <td>0</td>\n",
       "      <td>79.0</td>\n",
       "      <td>1</td>\n",
       "      <td>0</td>\n",
       "      <td>1</td>\n",
       "      <td>3</td>\n",
       "      <td>0</td>\n",
       "      <td>174.12</td>\n",
       "      <td>24.0</td>\n",
       "      <td>2</td>\n",
       "      <td>1</td>\n",
       "    </tr>\n",
       "  </tbody>\n",
       "</table>\n",
       "</div>"
      ],
      "text/plain": [
       "      id  gender   age  hypertension  heart_disease  ever_married  work_type  \\\n",
       "0   9046       1  67.0             0              1             1          2   \n",
       "1  51676       0  61.0             0              0             1          3   \n",
       "2  31112       1  80.0             0              1             1          2   \n",
       "3  60182       0  49.0             0              0             1          2   \n",
       "4   1665       0  79.0             1              0             1          3   \n",
       "\n",
       "   Residence_type  avg_glucose_level   BMI  smoking_status  stroke  \n",
       "0               1             228.69  36.6               1       1  \n",
       "1               0             202.21   NaN               2       1  \n",
       "2               0             105.92  32.5               2       1  \n",
       "3               1             171.23  34.4               3       1  \n",
       "4               0             174.12  24.0               2       1  "
      ]
     },
     "execution_count": 7,
     "metadata": {},
     "output_type": "execute_result"
    }
   ],
   "source": [
    "df.rename(columns={'bmi': 'BMI'}, inplace=True)\n",
    "df.head()"
   ]
  },
  {
   "cell_type": "code",
   "execution_count": 8,
   "id": "5f64fdc0-c1b3-4984-9041-c2a492af3348",
   "metadata": {},
   "outputs": [],
   "source": [
    "bmi_mean = df['BMI'].mean()\n",
    "df['BMI'].fillna(bmi_mean, inplace=True)"
   ]
  },
  {
   "cell_type": "code",
   "execution_count": 9,
   "id": "6970c296-8dcd-478a-bc9f-ab9e0767fc8e",
   "metadata": {},
   "outputs": [],
   "source": [
    "import tensorflow as tf\n",
    "from sklearn.model_selection import train_test_split\n",
    "from sklearn.preprocessing import StandardScaler\n",
    "from tensorflow.keras.models import Sequential\n",
    "from tensorflow.keras.layers import Dense"
   ]
  },
  {
   "cell_type": "code",
   "execution_count": 10,
   "id": "b8cd4b9b-854f-47c0-a0ad-fbf097a16ceb",
   "metadata": {},
   "outputs": [],
   "source": [
    "df.drop(columns=['id'], inplace=True)\n",
    "\n",
    "X = df.drop(columns=['stroke'])\n",
    "y = df['stroke']"
   ]
  },
  {
   "cell_type": "code",
   "execution_count": 11,
   "id": "db275b68-f8ff-4380-8625-254f5f2e3cce",
   "metadata": {},
   "outputs": [],
   "source": [
    "X_train, X_test, y_train, y_test = train_test_split(X, y, test_size=0.2, random_state=42)"
   ]
  },
  {
   "cell_type": "code",
   "execution_count": 12,
   "id": "48e7cb33-9014-40b5-91f0-7418bee0a99c",
   "metadata": {},
   "outputs": [],
   "source": [
    "scaler = StandardScaler()\n",
    "X_train_scaled = scaler.fit_transform(X_train)\n",
    "X_test_scaled = scaler.transform(X_test)"
   ]
  },
  {
   "cell_type": "code",
   "execution_count": 13,
   "id": "30dbd694-cd5e-4389-bf5d-73d6e55adfc5",
   "metadata": {},
   "outputs": [
    {
     "name": "stdout",
     "output_type": "stream",
     "text": [
      "WARNING:tensorflow:From C:\\Users\\laksh\\AppData\\Local\\Programs\\Python\\Python311\\Lib\\site-packages\\keras\\src\\backend.py:873: The name tf.get_default_graph is deprecated. Please use tf.compat.v1.get_default_graph instead.\n",
      "\n"
     ]
    }
   ],
   "source": [
    "model = Sequential([\n",
    "    Dense(64, activation='relu', input_shape=(X_train_scaled.shape[1],)),\n",
    "    Dense(32, activation='relu'),\n",
    "    Dense(1, activation='sigmoid')\n",
    "])"
   ]
  },
  {
   "cell_type": "code",
   "execution_count": 14,
   "id": "dd84803e-d678-4b4f-9e12-afda23a2c6e6",
   "metadata": {},
   "outputs": [
    {
     "name": "stdout",
     "output_type": "stream",
     "text": [
      "WARNING:tensorflow:From C:\\Users\\laksh\\AppData\\Local\\Programs\\Python\\Python311\\Lib\\site-packages\\keras\\src\\optimizers\\__init__.py:309: The name tf.train.Optimizer is deprecated. Please use tf.compat.v1.train.Optimizer instead.\n",
      "\n"
     ]
    }
   ],
   "source": [
    "model.compile(optimizer='adam', loss='binary_crossentropy', metrics=['accuracy'])"
   ]
  },
  {
   "cell_type": "code",
   "execution_count": 15,
   "id": "f87e97a3-b53d-44b5-998d-6fc48d2f5613",
   "metadata": {},
   "outputs": [
    {
     "name": "stdout",
     "output_type": "stream",
     "text": [
      "Epoch 1/20\n",
      "WARNING:tensorflow:From C:\\Users\\laksh\\AppData\\Local\\Programs\\Python\\Python311\\Lib\\site-packages\\keras\\src\\utils\\tf_utils.py:492: The name tf.ragged.RaggedTensorValue is deprecated. Please use tf.compat.v1.ragged.RaggedTensorValue instead.\n",
      "\n",
      "WARNING:tensorflow:From C:\\Users\\laksh\\AppData\\Local\\Programs\\Python\\Python311\\Lib\\site-packages\\keras\\src\\engine\\base_layer_utils.py:384: The name tf.executing_eagerly_outside_functions is deprecated. Please use tf.compat.v1.executing_eagerly_outside_functions instead.\n",
      "\n",
      "103/103 [==============================] - 3s 5ms/step - loss: 0.2689 - accuracy: 0.9419 - val_loss: 0.1687 - val_accuracy: 0.9548\n",
      "Epoch 2/20\n",
      "103/103 [==============================] - 0s 2ms/step - loss: 0.1633 - accuracy: 0.9541 - val_loss: 0.1578 - val_accuracy: 0.9548\n",
      "Epoch 3/20\n",
      "103/103 [==============================] - 0s 2ms/step - loss: 0.1562 - accuracy: 0.9541 - val_loss: 0.1556 - val_accuracy: 0.9548\n",
      "Epoch 4/20\n",
      "103/103 [==============================] - 0s 2ms/step - loss: 0.1521 - accuracy: 0.9541 - val_loss: 0.1537 - val_accuracy: 0.9548\n",
      "Epoch 5/20\n",
      "103/103 [==============================] - 0s 2ms/step - loss: 0.1490 - accuracy: 0.9541 - val_loss: 0.1532 - val_accuracy: 0.9548\n",
      "Epoch 6/20\n",
      "103/103 [==============================] - 0s 2ms/step - loss: 0.1481 - accuracy: 0.9541 - val_loss: 0.1537 - val_accuracy: 0.9548\n",
      "Epoch 7/20\n",
      "103/103 [==============================] - 0s 2ms/step - loss: 0.1468 - accuracy: 0.9538 - val_loss: 0.1532 - val_accuracy: 0.9535\n",
      "Epoch 8/20\n",
      "103/103 [==============================] - 0s 2ms/step - loss: 0.1452 - accuracy: 0.9541 - val_loss: 0.1540 - val_accuracy: 0.9548\n",
      "Epoch 9/20\n",
      "103/103 [==============================] - 0s 2ms/step - loss: 0.1435 - accuracy: 0.9550 - val_loss: 0.1553 - val_accuracy: 0.9548\n",
      "Epoch 10/20\n",
      "103/103 [==============================] - 1s 5ms/step - loss: 0.1429 - accuracy: 0.9544 - val_loss: 0.1564 - val_accuracy: 0.9548\n",
      "Epoch 11/20\n",
      "103/103 [==============================] - 0s 4ms/step - loss: 0.1419 - accuracy: 0.9544 - val_loss: 0.1572 - val_accuracy: 0.9535\n",
      "Epoch 12/20\n",
      "103/103 [==============================] - 0s 2ms/step - loss: 0.1417 - accuracy: 0.9550 - val_loss: 0.1566 - val_accuracy: 0.9535\n",
      "Epoch 13/20\n",
      "103/103 [==============================] - 0s 2ms/step - loss: 0.1407 - accuracy: 0.9557 - val_loss: 0.1610 - val_accuracy: 0.9548\n",
      "Epoch 14/20\n",
      "103/103 [==============================] - 0s 4ms/step - loss: 0.1400 - accuracy: 0.9544 - val_loss: 0.1588 - val_accuracy: 0.9535\n",
      "Epoch 15/20\n",
      "103/103 [==============================] - 0s 2ms/step - loss: 0.1388 - accuracy: 0.9547 - val_loss: 0.1589 - val_accuracy: 0.9535\n",
      "Epoch 16/20\n",
      "103/103 [==============================] - 0s 2ms/step - loss: 0.1376 - accuracy: 0.9560 - val_loss: 0.1597 - val_accuracy: 0.9535\n",
      "Epoch 17/20\n",
      "103/103 [==============================] - 0s 2ms/step - loss: 0.1373 - accuracy: 0.9557 - val_loss: 0.1617 - val_accuracy: 0.9535\n",
      "Epoch 18/20\n",
      "103/103 [==============================] - 0s 2ms/step - loss: 0.1376 - accuracy: 0.9554 - val_loss: 0.1585 - val_accuracy: 0.9523\n",
      "Epoch 19/20\n",
      "103/103 [==============================] - 0s 2ms/step - loss: 0.1347 - accuracy: 0.9557 - val_loss: 0.1610 - val_accuracy: 0.9535\n",
      "Epoch 20/20\n",
      "103/103 [==============================] - 0s 2ms/step - loss: 0.1337 - accuracy: 0.9557 - val_loss: 0.1640 - val_accuracy: 0.9535\n"
     ]
    }
   ],
   "source": [
    "history = model.fit(X_train_scaled, y_train, epochs=20, batch_size=32, validation_split=0.2)"
   ]
  },
  {
   "cell_type": "code",
   "execution_count": 16,
   "id": "ad5a8de5-e7c4-477a-8555-940d2b5e8065",
   "metadata": {},
   "outputs": [
    {
     "name": "stdout",
     "output_type": "stream",
     "text": [
      "32/32 [==============================] - 0s 2ms/step - loss: 0.1933 - accuracy: 0.9384\n",
      "Test Loss: 0.1933\n",
      "Test Accuracy: 93.84%\n"
     ]
    }
   ],
   "source": [
    "test_loss, test_accuracy = model.evaluate(X_test_scaled, y_test)\n",
    "print(f\"Test Loss: {test_loss:.4f}\")\n",
    "print(f\"Test Accuracy: {test_accuracy * 100:.2f}%\")"
   ]
  }
 ],
 "metadata": {
  "kernelspec": {
   "display_name": "Python 3 (ipykernel)",
   "language": "python",
   "name": "python3"
  },
  "language_info": {
   "codemirror_mode": {
    "name": "ipython",
    "version": 3
   },
   "file_extension": ".py",
   "mimetype": "text/x-python",
   "name": "python",
   "nbconvert_exporter": "python",
   "pygments_lexer": "ipython3",
   "version": "3.11.0"
  }
 },
 "nbformat": 4,
 "nbformat_minor": 5
}
