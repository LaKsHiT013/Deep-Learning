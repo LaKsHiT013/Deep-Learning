{
 "cells": [
  {
   "cell_type": "code",
   "execution_count": 136,
   "id": "0c9620e9-184a-4139-8417-fe2ffab2453b",
   "metadata": {},
   "outputs": [],
   "source": [
    "import warnings\n",
    "\n",
    "with warnings.catch_warnings():\n",
    "    warnings.simplefilter(\"ignore\")"
   ]
  },
  {
   "cell_type": "code",
   "execution_count": 137,
   "id": "960dcce0-05cd-4bee-abec-275a865129ef",
   "metadata": {},
   "outputs": [],
   "source": [
    "import pandas as pd\n",
    "import numpy as np\n",
    "import tensorflow as tf\n",
    "from tensorflow import keras\n",
    "from tensorflow.keras import layers\n",
    "from sklearn.model_selection import train_test_split"
   ]
  },
  {
   "cell_type": "code",
   "execution_count": 138,
   "id": "b70866a1-0f6d-4101-aaa7-93cc1a38e91e",
   "metadata": {},
   "outputs": [],
   "source": [
    "df=pd.read_csv('Data.csv')"
   ]
  },
  {
   "cell_type": "code",
   "execution_count": 139,
   "id": "4b9cc888-2c93-4835-bc43-6b4d7e143045",
   "metadata": {},
   "outputs": [],
   "source": [
    "from sklearn.preprocessing import LabelEncoder\n",
    "\n",
    "label_encoder = LabelEncoder()\n",
    "for column in df.columns:\n",
    "    if df[column].dtype == 'object':\n",
    "        df[column] = label_encoder.fit_transform(df[column].astype(str))"
   ]
  },
  {
   "cell_type": "code",
   "execution_count": 140,
   "id": "5f0fc78f-60c8-4f5f-a005-4f5271a8306e",
   "metadata": {},
   "outputs": [],
   "source": [
    "bmi_mean = df['bmi'].mean()\n",
    "df['bmi'].fillna(bmi_mean, inplace=True)"
   ]
  },
  {
   "cell_type": "code",
   "execution_count": 141,
   "id": "72ccfb24-686d-41be-a9f4-27e87d629725",
   "metadata": {},
   "outputs": [],
   "source": [
    "import tensorflow as tf\n",
    "from sklearn.model_selection import train_test_split\n",
    "from sklearn.preprocessing import StandardScaler\n",
    "from tensorflow.keras.models import Sequential\n",
    "from tensorflow.keras.layers import Dense"
   ]
  },
  {
   "cell_type": "code",
   "execution_count": 142,
   "id": "5e81836a-8548-4eaa-9b47-cd228ed16b53",
   "metadata": {},
   "outputs": [],
   "source": [
    "df.drop(columns=['id'], inplace=True)\n",
    "\n",
    "X = df.drop(columns=['stroke'])\n",
    "y = df['stroke']"
   ]
  },
  {
   "cell_type": "code",
   "execution_count": 143,
   "id": "406f9c65-9fd1-40fd-9872-bdff9d791762",
   "metadata": {},
   "outputs": [],
   "source": [
    "X_train, X_test, y_train, y_test = train_test_split(X, y, test_size=0.2, random_state=42)\n",
    "X_train, X_val, y_train, y_val = train_test_split(X_train, y_train, test_size=0.2, random_state=42)"
   ]
  },
  {
   "cell_type": "code",
   "execution_count": 144,
   "id": "b1cea355-0713-4400-8bf4-10ee05270d35",
   "metadata": {},
   "outputs": [],
   "source": [
    "scaler = StandardScaler()\n",
    "X_train_scaled = scaler.fit_transform(X_train)\n",
    "X_val_scaled = scaler.transform(X_val)\n",
    "X_test_scaled = scaler.transform(X_test)"
   ]
  },
  {
   "cell_type": "code",
   "execution_count": 145,
   "id": "26e6318a-e22a-47c8-81df-30875bf5cea0",
   "metadata": {},
   "outputs": [],
   "source": [
    "from tensorflow.keras.layers import Dense, Dropout\n",
    "from tensorflow.keras.optimizers import Adam\n",
    "from tensorflow.keras.callbacks import EarlyStopping\n",
    "\n",
    "\n",
    "model = Sequential([\n",
    "    Dense(64, activation='relu', input_shape=(X_train.shape[1],)),\n",
    "    Dropout(0.5),\n",
    "    Dense(32, activation='relu'),\n",
    "    Dropout(0.5),\n",
    "    Dense(1, activation='sigmoid')\n",
    "])"
   ]
  },
  {
   "cell_type": "code",
   "execution_count": 146,
   "id": "003eb3e0-bc57-4318-ba80-1952f75a52e9",
   "metadata": {},
   "outputs": [],
   "source": [
    "model.compile(optimizer=Adam(learning_rate=0.001),\n",
    "              loss='binary_crossentropy',\n",
    "              metrics=['accuracy'])"
   ]
  },
  {
   "cell_type": "code",
   "execution_count": 147,
   "id": "8e6eafc6-e49f-4a13-850e-165cda9e71c3",
   "metadata": {},
   "outputs": [
    {
     "name": "stdout",
     "output_type": "stream",
     "text": [
      "Epoch 1/50\n",
      "103/103 [==============================] - 4s 5ms/step - loss: 0.6029 - accuracy: 0.6703 - val_loss: 0.2355 - val_accuracy: 0.9535\n",
      "Epoch 2/50\n",
      "103/103 [==============================] - 0s 2ms/step - loss: 0.2385 - accuracy: 0.9520 - val_loss: 0.1821 - val_accuracy: 0.9535\n",
      "Epoch 3/50\n",
      "103/103 [==============================] - 0s 2ms/step - loss: 0.2008 - accuracy: 0.9538 - val_loss: 0.1743 - val_accuracy: 0.9535\n",
      "Epoch 4/50\n",
      "103/103 [==============================] - 0s 2ms/step - loss: 0.1958 - accuracy: 0.9532 - val_loss: 0.1692 - val_accuracy: 0.9535\n",
      "Epoch 5/50\n",
      "103/103 [==============================] - 0s 3ms/step - loss: 0.1790 - accuracy: 0.9532 - val_loss: 0.1665 - val_accuracy: 0.9535\n",
      "Epoch 6/50\n",
      "103/103 [==============================] - 0s 2ms/step - loss: 0.1728 - accuracy: 0.9547 - val_loss: 0.1645 - val_accuracy: 0.9535\n",
      "Epoch 7/50\n",
      "103/103 [==============================] - 0s 2ms/step - loss: 0.1743 - accuracy: 0.9538 - val_loss: 0.1644 - val_accuracy: 0.9535\n",
      "Epoch 8/50\n",
      "103/103 [==============================] - 0s 2ms/step - loss: 0.1735 - accuracy: 0.9535 - val_loss: 0.1640 - val_accuracy: 0.9535\n",
      "Epoch 9/50\n",
      "103/103 [==============================] - 0s 2ms/step - loss: 0.1705 - accuracy: 0.9541 - val_loss: 0.1648 - val_accuracy: 0.9535\n",
      "Epoch 10/50\n",
      "103/103 [==============================] - 0s 2ms/step - loss: 0.1658 - accuracy: 0.9541 - val_loss: 0.1647 - val_accuracy: 0.9535\n",
      "Epoch 11/50\n",
      "103/103 [==============================] - 0s 2ms/step - loss: 0.1706 - accuracy: 0.9541 - val_loss: 0.1629 - val_accuracy: 0.9535\n",
      "Epoch 12/50\n",
      "103/103 [==============================] - 0s 2ms/step - loss: 0.1683 - accuracy: 0.9544 - val_loss: 0.1634 - val_accuracy: 0.9535\n",
      "Epoch 13/50\n",
      "103/103 [==============================] - 0s 2ms/step - loss: 0.1655 - accuracy: 0.9544 - val_loss: 0.1622 - val_accuracy: 0.9535\n",
      "Epoch 14/50\n",
      "103/103 [==============================] - 0s 2ms/step - loss: 0.1651 - accuracy: 0.9544 - val_loss: 0.1614 - val_accuracy: 0.9535\n",
      "Epoch 15/50\n",
      "103/103 [==============================] - 0s 3ms/step - loss: 0.1644 - accuracy: 0.9541 - val_loss: 0.1609 - val_accuracy: 0.9535\n",
      "Epoch 16/50\n",
      "103/103 [==============================] - 0s 3ms/step - loss: 0.1578 - accuracy: 0.9541 - val_loss: 0.1623 - val_accuracy: 0.9535\n",
      "Epoch 17/50\n",
      "103/103 [==============================] - 0s 2ms/step - loss: 0.1577 - accuracy: 0.9544 - val_loss: 0.1629 - val_accuracy: 0.9535\n",
      "Epoch 18/50\n",
      "103/103 [==============================] - 0s 2ms/step - loss: 0.1655 - accuracy: 0.9541 - val_loss: 0.1613 - val_accuracy: 0.9535\n",
      "Epoch 19/50\n",
      "103/103 [==============================] - 0s 2ms/step - loss: 0.1605 - accuracy: 0.9544 - val_loss: 0.1614 - val_accuracy: 0.9535\n",
      "Epoch 20/50\n",
      "103/103 [==============================] - 0s 2ms/step - loss: 0.1602 - accuracy: 0.9544 - val_loss: 0.1614 - val_accuracy: 0.9535\n"
     ]
    }
   ],
   "source": [
    "early_stopping = EarlyStopping(patience=5, restore_best_weights=True)\n",
    "history = model.fit(X_train_scaled, y_train,\n",
    "                    validation_data=(X_val_scaled, y_val),\n",
    "                    epochs=50,\n",
    "                    batch_size=32,\n",
    "                    callbacks=[early_stopping])"
   ]
  },
  {
   "cell_type": "code",
   "execution_count": 148,
   "id": "f1def11a-c0b9-4e9e-a346-68d9fe1bd9f1",
   "metadata": {},
   "outputs": [
    {
     "name": "stdout",
     "output_type": "stream",
     "text": [
      "32/32 [==============================] - 0s 2ms/step - loss: 0.1892 - accuracy: 0.9393\n",
      "Test Loss: 0.18915314972400665\n",
      "Test Accuracy: 93.93%\n"
     ]
    }
   ],
   "source": [
    "test_loss, test_accuracy = model.evaluate(X_test_scaled, y_test)\n",
    "print(\"Test Loss:\", test_loss)\n",
    "print(f\"Test Accuracy: {test_accuracy * 100:.2f}%\")"
   ]
  }
 ],
 "metadata": {
  "kernelspec": {
   "display_name": "Python 3 (ipykernel)",
   "language": "python",
   "name": "python3"
  },
  "language_info": {
   "codemirror_mode": {
    "name": "ipython",
    "version": 3
   },
   "file_extension": ".py",
   "mimetype": "text/x-python",
   "name": "python",
   "nbconvert_exporter": "python",
   "pygments_lexer": "ipython3",
   "version": "3.11.0"
  }
 },
 "nbformat": 4,
 "nbformat_minor": 5
}
