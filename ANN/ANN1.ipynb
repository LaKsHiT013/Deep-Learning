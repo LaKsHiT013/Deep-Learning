{
 "cells": [
  {
   "cell_type": "code",
   "execution_count": 1,
   "id": "6cc104ea-3970-44d6-bb79-d85c2afa10f5",
   "metadata": {},
   "outputs": [
    {
     "name": "stdout",
     "output_type": "stream",
     "text": [
      "WARNING:tensorflow:From C:\\Users\\laksh\\AppData\\Local\\Programs\\Python\\Python311\\Lib\\site-packages\\keras\\src\\losses.py:2976: The name tf.losses.sparse_softmax_cross_entropy is deprecated. Please use tf.compat.v1.losses.sparse_softmax_cross_entropy instead.\n",
      "\n"
     ]
    }
   ],
   "source": [
    "import tensorflow as tf\n",
    "from tensorflow import keras\n",
    "from tensorflow.keras import layers\n",
    "from sklearn.datasets import load_iris\n",
    "from sklearn.model_selection import train_test_split"
   ]
  },
  {
   "cell_type": "code",
   "execution_count": 2,
   "id": "fbf10e89-16db-4105-b5d9-58bba4d06c4d",
   "metadata": {},
   "outputs": [],
   "source": [
    "iris_data = load_iris()\n",
    "X = iris_data.data\n",
    "y = (iris_data.target == 0).astype(int)"
   ]
  },
  {
   "cell_type": "code",
   "execution_count": 3,
   "id": "162e2a05-957d-4206-b468-bd9bd13bec05",
   "metadata": {},
   "outputs": [],
   "source": [
    "X_train, X_test, y_train, y_test = train_test_split(X, y, test_size=0.2, random_state=42)"
   ]
  },
  {
   "cell_type": "code",
   "execution_count": 5,
   "id": "c7aec5af-9e43-472f-909e-eb3d1f94c9b2",
   "metadata": {},
   "outputs": [],
   "source": [
    "model = keras.Sequential([\n",
    " layers.Input(shape=(4,)),\n",
    " layers.Dense(8, activation='relu'),\n",
    " layers.Dense(1, activation='sigmoid')\n",
    "])"
   ]
  },
  {
   "cell_type": "code",
   "execution_count": 6,
   "id": "42a783a9-cf7f-4a09-be71-6100712a07a9",
   "metadata": {},
   "outputs": [
    {
     "name": "stdout",
     "output_type": "stream",
     "text": [
      "WARNING:tensorflow:From C:\\Users\\laksh\\AppData\\Local\\Programs\\Python\\Python311\\Lib\\site-packages\\keras\\src\\optimizers\\__init__.py:309: The name tf.train.Optimizer is deprecated. Please use tf.compat.v1.train.Optimizer instead.\n",
      "\n"
     ]
    }
   ],
   "source": [
    "model.compile(optimizer='adam', loss='binary_crossentropy', metrics=['accuracy'])"
   ]
  },
  {
   "cell_type": "code",
   "execution_count": 7,
   "id": "f209f4e1-697d-4272-9ccb-2c093b6990fb",
   "metadata": {},
   "outputs": [
    {
     "name": "stdout",
     "output_type": "stream",
     "text": [
      "Epoch 1/50\n",
      "WARNING:tensorflow:From C:\\Users\\laksh\\AppData\\Local\\Programs\\Python\\Python311\\Lib\\site-packages\\keras\\src\\utils\\tf_utils.py:492: The name tf.ragged.RaggedTensorValue is deprecated. Please use tf.compat.v1.ragged.RaggedTensorValue instead.\n",
      "\n",
      "WARNING:tensorflow:From C:\\Users\\laksh\\AppData\\Local\\Programs\\Python\\Python311\\Lib\\site-packages\\keras\\src\\engine\\base_layer_utils.py:384: The name tf.executing_eagerly_outside_functions is deprecated. Please use tf.compat.v1.executing_eagerly_outside_functions instead.\n",
      "\n",
      "8/8 [==============================] - 4s 119ms/step - loss: 1.3647 - accuracy: 0.6667 - val_loss: 1.3104 - val_accuracy: 0.6667\n",
      "Epoch 2/50\n",
      "8/8 [==============================] - 0s 25ms/step - loss: 1.2861 - accuracy: 0.6667 - val_loss: 1.2341 - val_accuracy: 0.6667\n",
      "Epoch 3/50\n",
      "8/8 [==============================] - 0s 20ms/step - loss: 1.2095 - accuracy: 0.6667 - val_loss: 1.1586 - val_accuracy: 0.6667\n",
      "Epoch 4/50\n",
      "8/8 [==============================] - 0s 22ms/step - loss: 1.1381 - accuracy: 0.6667 - val_loss: 1.0841 - val_accuracy: 0.6667\n",
      "Epoch 5/50\n",
      "8/8 [==============================] - 0s 20ms/step - loss: 1.0582 - accuracy: 0.6667 - val_loss: 1.0171 - val_accuracy: 0.6667\n",
      "Epoch 6/50\n",
      "8/8 [==============================] - 0s 19ms/step - loss: 0.9952 - accuracy: 0.6667 - val_loss: 0.9465 - val_accuracy: 0.6667\n",
      "Epoch 7/50\n",
      "8/8 [==============================] - 0s 22ms/step - loss: 0.9245 - accuracy: 0.6667 - val_loss: 0.8799 - val_accuracy: 0.6667\n",
      "Epoch 8/50\n",
      "8/8 [==============================] - 0s 23ms/step - loss: 0.8572 - accuracy: 0.6667 - val_loss: 0.8165 - val_accuracy: 0.6667\n",
      "Epoch 9/50\n",
      "8/8 [==============================] - 0s 23ms/step - loss: 0.7963 - accuracy: 0.6667 - val_loss: 0.7533 - val_accuracy: 0.6667\n",
      "Epoch 10/50\n",
      "8/8 [==============================] - 0s 35ms/step - loss: 0.7332 - accuracy: 0.6667 - val_loss: 0.6951 - val_accuracy: 0.6667\n",
      "Epoch 11/50\n",
      "8/8 [==============================] - 0s 19ms/step - loss: 0.6778 - accuracy: 0.6667 - val_loss: 0.6396 - val_accuracy: 0.6667\n",
      "Epoch 12/50\n",
      "8/8 [==============================] - 0s 16ms/step - loss: 0.6255 - accuracy: 0.6667 - val_loss: 0.5879 - val_accuracy: 0.6667\n",
      "Epoch 13/50\n",
      "8/8 [==============================] - 0s 21ms/step - loss: 0.5761 - accuracy: 0.6667 - val_loss: 0.5420 - val_accuracy: 0.6667\n",
      "Epoch 14/50\n",
      "8/8 [==============================] - 0s 22ms/step - loss: 0.5322 - accuracy: 0.6667 - val_loss: 0.5015 - val_accuracy: 0.6667\n",
      "Epoch 15/50\n",
      "8/8 [==============================] - 0s 21ms/step - loss: 0.4909 - accuracy: 0.6667 - val_loss: 0.4656 - val_accuracy: 0.6667\n",
      "Epoch 16/50\n",
      "8/8 [==============================] - 0s 24ms/step - loss: 0.4569 - accuracy: 0.6667 - val_loss: 0.4306 - val_accuracy: 0.6667\n",
      "Epoch 17/50\n",
      "8/8 [==============================] - 0s 19ms/step - loss: 0.4251 - accuracy: 0.6667 - val_loss: 0.4001 - val_accuracy: 0.6667\n",
      "Epoch 18/50\n",
      "8/8 [==============================] - 0s 25ms/step - loss: 0.3934 - accuracy: 0.6667 - val_loss: 0.3759 - val_accuracy: 0.6667\n",
      "Epoch 19/50\n",
      "8/8 [==============================] - 0s 21ms/step - loss: 0.3694 - accuracy: 0.6667 - val_loss: 0.3525 - val_accuracy: 0.6667\n",
      "Epoch 20/50\n",
      "8/8 [==============================] - 0s 23ms/step - loss: 0.3472 - accuracy: 0.6667 - val_loss: 0.3326 - val_accuracy: 0.6667\n",
      "Epoch 21/50\n",
      "8/8 [==============================] - 0s 23ms/step - loss: 0.3276 - accuracy: 0.6667 - val_loss: 0.3126 - val_accuracy: 0.6667\n",
      "Epoch 22/50\n",
      "8/8 [==============================] - 0s 39ms/step - loss: 0.3084 - accuracy: 0.7417 - val_loss: 0.2973 - val_accuracy: 0.7333\n",
      "Epoch 23/50\n",
      "8/8 [==============================] - 0s 18ms/step - loss: 0.2920 - accuracy: 0.9250 - val_loss: 0.2812 - val_accuracy: 0.9000\n",
      "Epoch 24/50\n",
      "8/8 [==============================] - 0s 20ms/step - loss: 0.2771 - accuracy: 0.9583 - val_loss: 0.2653 - val_accuracy: 1.0000\n",
      "Epoch 25/50\n",
      "8/8 [==============================] - 0s 18ms/step - loss: 0.2623 - accuracy: 0.9833 - val_loss: 0.2527 - val_accuracy: 1.0000\n",
      "Epoch 26/50\n",
      "8/8 [==============================] - 0s 23ms/step - loss: 0.2495 - accuracy: 0.9917 - val_loss: 0.2403 - val_accuracy: 1.0000\n",
      "Epoch 27/50\n",
      "8/8 [==============================] - 0s 18ms/step - loss: 0.2379 - accuracy: 1.0000 - val_loss: 0.2276 - val_accuracy: 1.0000\n",
      "Epoch 28/50\n",
      "8/8 [==============================] - 0s 21ms/step - loss: 0.2257 - accuracy: 1.0000 - val_loss: 0.2172 - val_accuracy: 1.0000\n",
      "Epoch 29/50\n",
      "8/8 [==============================] - 0s 23ms/step - loss: 0.2152 - accuracy: 1.0000 - val_loss: 0.2066 - val_accuracy: 1.0000\n",
      "Epoch 30/50\n",
      "8/8 [==============================] - 0s 23ms/step - loss: 0.2058 - accuracy: 1.0000 - val_loss: 0.1970 - val_accuracy: 1.0000\n",
      "Epoch 31/50\n",
      "8/8 [==============================] - 0s 20ms/step - loss: 0.1961 - accuracy: 1.0000 - val_loss: 0.1889 - val_accuracy: 1.0000\n",
      "Epoch 32/50\n",
      "8/8 [==============================] - 0s 20ms/step - loss: 0.1878 - accuracy: 1.0000 - val_loss: 0.1806 - val_accuracy: 1.0000\n",
      "Epoch 33/50\n",
      "8/8 [==============================] - 0s 20ms/step - loss: 0.1797 - accuracy: 1.0000 - val_loss: 0.1735 - val_accuracy: 1.0000\n",
      "Epoch 34/50\n",
      "8/8 [==============================] - 0s 20ms/step - loss: 0.1721 - accuracy: 1.0000 - val_loss: 0.1663 - val_accuracy: 1.0000\n",
      "Epoch 35/50\n",
      "8/8 [==============================] - 0s 18ms/step - loss: 0.1653 - accuracy: 1.0000 - val_loss: 0.1585 - val_accuracy: 1.0000\n",
      "Epoch 36/50\n",
      "8/8 [==============================] - 0s 18ms/step - loss: 0.1584 - accuracy: 1.0000 - val_loss: 0.1518 - val_accuracy: 1.0000\n",
      "Epoch 37/50\n",
      "8/8 [==============================] - 0s 21ms/step - loss: 0.1522 - accuracy: 1.0000 - val_loss: 0.1456 - val_accuracy: 1.0000\n",
      "Epoch 38/50\n",
      "8/8 [==============================] - 0s 18ms/step - loss: 0.1460 - accuracy: 1.0000 - val_loss: 0.1405 - val_accuracy: 1.0000\n",
      "Epoch 39/50\n",
      "8/8 [==============================] - 0s 19ms/step - loss: 0.1405 - accuracy: 1.0000 - val_loss: 0.1351 - val_accuracy: 1.0000\n",
      "Epoch 40/50\n",
      "8/8 [==============================] - 0s 21ms/step - loss: 0.1354 - accuracy: 1.0000 - val_loss: 0.1297 - val_accuracy: 1.0000\n",
      "Epoch 41/50\n",
      "8/8 [==============================] - 0s 15ms/step - loss: 0.1301 - accuracy: 1.0000 - val_loss: 0.1252 - val_accuracy: 1.0000\n",
      "Epoch 42/50\n",
      "8/8 [==============================] - 0s 12ms/step - loss: 0.1255 - accuracy: 1.0000 - val_loss: 0.1209 - val_accuracy: 1.0000\n",
      "Epoch 43/50\n",
      "8/8 [==============================] - 0s 17ms/step - loss: 0.1211 - accuracy: 1.0000 - val_loss: 0.1171 - val_accuracy: 1.0000\n",
      "Epoch 44/50\n",
      "8/8 [==============================] - 0s 20ms/step - loss: 0.1169 - accuracy: 1.0000 - val_loss: 0.1133 - val_accuracy: 1.0000\n",
      "Epoch 45/50\n",
      "8/8 [==============================] - 0s 19ms/step - loss: 0.1130 - accuracy: 1.0000 - val_loss: 0.1091 - val_accuracy: 1.0000\n",
      "Epoch 46/50\n",
      "8/8 [==============================] - 0s 20ms/step - loss: 0.1094 - accuracy: 1.0000 - val_loss: 0.1050 - val_accuracy: 1.0000\n",
      "Epoch 47/50\n",
      "8/8 [==============================] - 0s 18ms/step - loss: 0.1055 - accuracy: 1.0000 - val_loss: 0.1017 - val_accuracy: 1.0000\n",
      "Epoch 48/50\n",
      "8/8 [==============================] - 0s 20ms/step - loss: 0.1021 - accuracy: 1.0000 - val_loss: 0.0983 - val_accuracy: 1.0000\n",
      "Epoch 49/50\n",
      "8/8 [==============================] - 0s 23ms/step - loss: 0.0988 - accuracy: 1.0000 - val_loss: 0.0950 - val_accuracy: 1.0000\n",
      "Epoch 50/50\n",
      "8/8 [==============================] - 0s 23ms/step - loss: 0.0956 - accuracy: 1.0000 - val_loss: 0.0920 - val_accuracy: 1.0000\n"
     ]
    }
   ],
   "source": [
    "history = model.fit(X_train, y_train, epochs=50, batch_size=16, validation_data=(X_test, y_test))"
   ]
  },
  {
   "cell_type": "code",
   "execution_count": 9,
   "id": "56d21a48-2a4e-4bb5-a1fd-6f3268b2bc01",
   "metadata": {},
   "outputs": [
    {
     "name": "stdout",
     "output_type": "stream",
     "text": [
      "1/1 [==============================] - 0s 373ms/step - loss: 0.0920 - accuracy: 1.0000\n",
      "Test Loss: 0.0920\n",
      "Test Accuracy: 100.00%\n"
     ]
    }
   ],
   "source": [
    "test_loss, test_accuracy = model.evaluate(X_test, y_test)\n",
    "print(f\"Test Loss: {test_loss:.4f}\")\n",
    "print(f\"Test Accuracy: {test_accuracy * 100:.2f}%\")"
   ]
  },
  {
   "cell_type": "code",
   "execution_count": 10,
   "id": "3538e0ab-83e0-49f3-83e7-997577175c4b",
   "metadata": {},
   "outputs": [
    {
     "name": "stdout",
     "output_type": "stream",
     "text": [
      "1/1 [==============================] - 0s 95ms/step\n"
     ]
    }
   ],
   "source": [
    "predictions = model.predict(X_test)"
   ]
  }
 ],
 "metadata": {
  "kernelspec": {
   "display_name": "Python 3 (ipykernel)",
   "language": "python",
   "name": "python3"
  },
  "language_info": {
   "codemirror_mode": {
    "name": "ipython",
    "version": 3
   },
   "file_extension": ".py",
   "mimetype": "text/x-python",
   "name": "python",
   "nbconvert_exporter": "python",
   "pygments_lexer": "ipython3",
   "version": "3.11.0"
  }
 },
 "nbformat": 4,
 "nbformat_minor": 5
}
