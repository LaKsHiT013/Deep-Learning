{
 "cells": [
  {
   "cell_type": "code",
   "execution_count": 47,
   "id": "09b9b4b1",
   "metadata": {},
   "outputs": [],
   "source": [
    "import tensorflow as tf\n",
    "from tensorflow.keras import layers, models, optimizers, regularizers\n",
    "from tensorflow.keras.callbacks import EarlyStopping"
   ]
  },
  {
   "cell_type": "code",
   "execution_count": 48,
   "id": "d64f0dc3-e7b6-4b79-bd9d-7e66a4b16adb",
   "metadata": {},
   "outputs": [],
   "source": [
    "def LeNet():\n",
    "    model = models.Sequential()\n",
    "\n",
    "    model.add(layers.Conv2D(6, kernel_size=(5, 5), activation='relu', input_shape=(32, 32, 3), padding='valid',\n",
    "                            kernel_regularizer=regularizers.l2(0.01)))\n",
    "    model.add(layers.AveragePooling2D(pool_size=(2, 2)))\n",
    "    model.add(layers.Conv2D(16, kernel_size=(5, 5), activation='relu', padding='valid',\n",
    "                            kernel_regularizer=regularizers.l2(0.01)))\n",
    "    model.add(layers.AveragePooling2D(pool_size=(2, 2)))\n",
    "\n",
    "    model.add(layers.Flatten())\n",
    "\n",
    "    model.add(layers.Dense(120, activation='relu', kernel_regularizer=regularizers.l2(0.01)))\n",
    "    model.add(layers.Dense(84, activation='relu', kernel_regularizer=regularizers.l2(0.01)))\n",
    "    model.add(layers.Dense(7, activation='softmax'))\n",
    "\n",
    "    return model"
   ]
  },
  {
   "cell_type": "code",
   "execution_count": 49,
   "id": "ffa3052d",
   "metadata": {},
   "outputs": [],
   "source": [
    "def AlexNet():\n",
    "    model=models.Sequential()\n",
    "\n",
    "    model.add(layers.Conv2D(96, kernel_size=(11, 11), strides=(4, 4), activation='relu', input_shape=(227, 227, 3)))\n",
    "    model.add(layers.MaxPooling2D(pool_size=(3, 3), strides=(2, 2)))\n",
    "    model.add(layers.Conv2D(256, kernel_size=(5, 5), activation='relu'))\n",
    "    model.add(layers.MaxPooling2D(pool_size=(3, 3), strides=(2, 2)))\n",
    "    model.add(layers.Conv2D(384, kernel_size=(3, 3), activation='relu'))\n",
    "    model.add(layers.Conv2D(384, kernel_size=(3, 3), activation='relu'))\n",
    "    model.add(layers.Conv2D(256, kernel_size=(3, 3), activation='relu'))\n",
    "    model.add(layers.MaxPooling2D(pool_size=(3, 3), strides=(2, 2)))\n",
    "\n",
    "    model.add(layers.Flatten())\n",
    "\n",
    "    model.add(layers.Dense(1024, activation='relu', kernel_regularizer=regularizers.l2(0.001)))\n",
    "    model.add(layers.BatchNormalization())\n",
    "    model.add(layers.Dropout(0.5))\n",
    "    model.add(layers.Dense(256, activation='relu', kernel_regularizer=regularizers.l2(0.001)))\n",
    "    model.add(layers.BatchNormalization())\n",
    "    model.add(layers.Dropout(0.5))\n",
    "    model.add(layers.Dense(7, activation='softmax'))\n",
    "\n",
    "    return model"
   ]
  },
  {
   "cell_type": "code",
   "execution_count": 50,
   "id": "29c37a5d-a745-407f-be31-e74a859eee7f",
   "metadata": {},
   "outputs": [],
   "source": [
    "def VGG16():\n",
    "    model = models.Sequential()\n",
    "\n",
    "    model.add(layers.Conv2D(64, kernel_size=(3, 3), activation='relu', padding='same', input_shape=(224, 224, 3),\n",
    "                            kernel_regularizer=regularizers.l2(0.01)))\n",
    "    model.add(layers.Conv2D(64, kernel_size=(3, 3), activation='relu', padding='same',\n",
    "                            kernel_regularizer=regularizers.l2(0.01)))\n",
    "    model.add(layers.MaxPooling2D(pool_size=(2, 2), strides=(2, 2)))\n",
    "\n",
    "    model.add(layers.Conv2D(128, kernel_size=(3, 3), activation='relu', padding='same',\n",
    "                            kernel_regularizer=regularizers.l2(0.01)))\n",
    "    model.add(layers.Conv2D(128, kernel_size=(3, 3), activation='relu', padding='same',\n",
    "                            kernel_regularizer=regularizers.l2(0.01)))\n",
    "    model.add(layers.MaxPooling2D(pool_size=(2, 2), strides=(2, 2)))\n",
    "\n",
    "    model.add(layers.Conv2D(256, kernel_size=(3, 3), activation='relu', padding='same',\n",
    "                            kernel_regularizer=regularizers.l2(0.01)))\n",
    "    model.add(layers.Conv2D(256, kernel_size=(3, 3), activation='relu', padding='same',\n",
    "                            kernel_regularizer=regularizers.l2(0.01)))\n",
    "    model.add(layers.Conv2D(256, kernel_size=(3, 3), activation='relu', padding='same',\n",
    "                            kernel_regularizer=regularizers.l2(0.01)))\n",
    "    model.add(layers.MaxPooling2D(pool_size=(2, 2), strides=(2, 2)))\n",
    "\n",
    "    model.add(layers.Conv2D(512, kernel_size=(3, 3), activation='relu', padding='same',\n",
    "                            kernel_regularizer=regularizers.l2(0.01)))\n",
    "    model.add(layers.Conv2D(512, kernel_size=(3, 3), activation='relu', padding='same',\n",
    "                            kernel_regularizer=regularizers.l2(0.01)))\n",
    "    model.add(layers.Conv2D(512, kernel_size=(3, 3), activation='relu', padding='same',\n",
    "                            kernel_regularizer=regularizers.l2(0.01)))\n",
    "    model.add(layers.MaxPooling2D(pool_size=(2, 2), strides=(2, 2)))\n",
    "\n",
    "    model.add(layers.Conv2D(512, kernel_size=(3, 3), activation='relu', padding='same',\n",
    "                            kernel_regularizer=regularizers.l2(0.01)))\n",
    "    model.add(layers.Conv2D(512, kernel_size=(3, 3), activation='relu', padding='same',\n",
    "                            kernel_regularizer=regularizers.l2(0.01)))\n",
    "    model.add(layers.Conv2D(512, kernel_size=(3, 3), activation='relu', padding='same',\n",
    "                            kernel_regularizer=regularizers.l2(0.01)))\n",
    "    model.add(layers.MaxPooling2D(pool_size=(2, 2), strides=(2, 2)))\n",
    "\n",
    "    model.add(layers.Flatten())\n",
    "    model.add(layers.Dense(4096, activation='relu', kernel_regularizer=regularizers.l2(0.01)))\n",
    "    model.add(layers.Dense(4096, activation='relu', kernel_regularizer=regularizers.l2(0.01)))\n",
    "    model.add(layers.Dense(1000, activation='softmax'))\n",
    "\n",
    "    return model"
   ]
  },
  {
   "cell_type": "code",
   "execution_count": 51,
   "id": "6505d3f9-66fa-4b3d-9a14-a11377eea238",
   "metadata": {},
   "outputs": [],
   "source": [
    "def InceptionV1():\n",
    "    input_layer = layers.Input(shape=(224, 224, 3))\n",
    "\n",
    "    conv1_1 = layers.Conv2D(64, kernel_size=(7, 7), strides=(2, 2), activation='relu', padding='same',\n",
    "                            kernel_regularizer=regularizers.l2(0.01))(input_layer)\n",
    "    pool1_1 = layers.MaxPooling2D(pool_size=(3, 3), strides=(2, 2), padding='same')(conv1_1)\n",
    "\n",
    "    conv2_1 = layers.Conv2D(64, kernel_size=(1, 1), activation='relu', padding='same',\n",
    "                            kernel_regularizer=regularizers.l2(0.01))(pool1_1)\n",
    "    conv2_2 = layers.Conv2D(192, kernel_size=(3, 3), activation='relu', padding='same',\n",
    "                            kernel_regularizer=regularizers.l2(0.01))(conv2_1)\n",
    "    pool2_1 = layers.MaxPooling2D(pool_size=(3, 3), strides=(2, 2), padding='same')(conv2_2)\n",
    "\n",
    "    inception3a_1 = layers.Conv2D(64, kernel_size=(1, 1), activation='relu', padding='same')(pool2_1)\n",
    "    inception3a_2 = layers.Conv2D(96, kernel_size=(1, 1), activation='relu', padding='same')(pool2_1)\n",
    "    inception3a_2 = layers.Conv2D(128, kernel_size=(3, 3), activation='relu', padding='same')(inception3a_2)\n",
    "    inception3a_3 = layers.Conv2D(16, kernel_size=(1, 1), activation='relu', padding='same')(pool2_1)\n",
    "    inception3a_4 = layers.MaxPooling2D(pool_size=(3, 3), strides=(1, 1), padding='same')(pool2_1)\n",
    "    inception3a_4 = layers.Conv2D(32, kernel_size=(1, 1), activation='relu', padding='same')(inception3a_4)\n",
    "    inception3a = layers.concatenate([inception3a_1, inception3a_2, inception3a_3, inception3a_4], axis=-1)\n",
    "\n",
    "    inception3b_1 = layers.Conv2D(128, kernel_size=(1, 1), activation='relu', padding='same')(inception3a)\n",
    "    inception3b_2 = layers.Conv2D(128, kernel_size=(1, 1), activation='relu', padding='same')(inception3a)\n",
    "    inception3b_2 = layers.Conv2D(192, kernel_size=(3, 3), activation='relu', padding='same')(inception3b_2)\n",
    "    inception3b_3 = layers.Conv2D(32, kernel_size=(1, 1), activation='relu', padding='same')(inception3a)\n",
    "    inception3b_4 = layers.MaxPooling2D(pool_size=(3, 3), strides=(1, 1), padding='same')(inception3a)\n",
    "    inception3b_4 = layers.Conv2D(96, kernel_size=(1, 1), activation='relu', padding='same')(inception3b_4)\n",
    "    inception3b = layers.concatenate([inception3b_1, inception3b_2, inception3b_3, inception3b_4], axis=-1)\n",
    "\n",
    "    output_layer = layers.Dense(1000, activation='softmax')(inception3b)\n",
    "    model = models.Model(inputs=input_layer, outputs=output_layer)\n",
    "    \n",
    "    return model"
   ]
  },
  {
   "cell_type": "code",
   "execution_count": 54,
   "id": "9aed7e84-fec7-4754-a665-c1ca0fc2827f",
   "metadata": {},
   "outputs": [],
   "source": [
    "def ResNet():\n",
    "    input_layer = layers.Input(shape=(32, 32, 3))\n",
    "\n",
    "    conv1 = layers.Conv2D(64, kernel_size=(7, 7), activation='relu', padding='same',\n",
    "                          kernel_regularizer=regularizers.l2(0.01))(input_layer)\n",
    "    pool1 = layers.MaxPooling2D(pool_size=(3, 3), strides=(2, 2), padding='same')(conv1)\n",
    "\n",
    "    num_blocks = 3  \n",
    "    num_filters = 64\n",
    "    for block in range(num_blocks):\n",
    "        conv2 = layers.Conv2D(num_filters, kernel_size=(3, 3), activation='relu', padding='same',\n",
    "                              kernel_regularizer=regularizers.l2(0.01))(pool1)\n",
    "        conv3 = layers.Conv2D(num_filters, kernel_size=(3, 3), activation='relu', padding='same',\n",
    "                              kernel_regularizer=regularizers.l2(0.01))(conv2)\n",
    "        if block == 0:\n",
    "            shortcut = layers.Conv2D(num_filters, kernel_size=(1, 1), strides=(2, 2), padding='same',\n",
    "                                     kernel_regularizer=regularizers.l2(0.01))(pool1)\n",
    "        else: shortcut = pool1\n",
    "        add = layers.add([conv3, shortcut])\n",
    "        pool1 = layers.Activation('relu')(add)\n",
    "\n",
    "    pool2 = layers.GlobalAveragePooling2D()(pool1)\n",
    "    output_layer = layers.Dense(10, activation='softmax')(pool2)\n",
    "\n",
    "    model = models.Model(inputs=input_layer, outputs=output_layer)\n",
    "    \n",
    "    return model"
   ]
  },
  {
   "cell_type": "code",
   "execution_count": 42,
   "id": "d8f40594",
   "metadata": {},
   "outputs": [
    {
     "name": "stdout",
     "output_type": "stream",
     "text": [
      "Found 1750 files belonging to 7 classes.\n",
      "Found 252 files belonging to 7 classes.\n",
      "Found 98 files belonging to 7 classes.\n"
     ]
    }
   ],
   "source": [
    "train=tf.keras.utils.image_dataset_from_directory(\n",
    "    directory='Data/Train',\n",
    "    labels='inferred',\n",
    "    label_mode='int',\n",
    "    batch_size=32,\n",
    "    image_size=(227,227)\n",
    ")\n",
    "valid=tf.keras.utils.image_dataset_from_directory(\n",
    "    directory='Data/Valid',\n",
    "    labels='inferred',\n",
    "    label_mode='int',\n",
    "    batch_size=32,\n",
    "    image_size=(227,227)\n",
    ")\n",
    "test=tf.keras.utils.image_dataset_from_directory(\n",
    "    directory='Data/Test',\n",
    "    labels='inferred',\n",
    "    label_mode='int',\n",
    "    batch_size=32,\n",
    "    image_size=(227,227)\n",
    ")"
   ]
  },
  {
   "cell_type": "code",
   "execution_count": 56,
   "id": "dd44d8ea",
   "metadata": {},
   "outputs": [],
   "source": [
    "model1 = AlexNet()\n",
    "opt = optimizers.Adam(learning_rate=0.0001)\n",
    "model1.compile(optimizer='adam', loss='sparse_categorical_crossentropy', metrics=['accuracy'])"
   ]
  },
  {
   "cell_type": "code",
   "execution_count": 55,
   "id": "49d0e18e-c775-4ed5-938d-eb83b918636a",
   "metadata": {},
   "outputs": [],
   "source": [
    "model2 = LeNet()\n",
    "opt = optimizers.Adam(learning_rate=0.0001)\n",
    "model2.compile(optimizer='adam', loss='sparse_categorical_crossentropy', metrics=['accuracy'])"
   ]
  },
  {
   "cell_type": "code",
   "execution_count": 57,
   "id": "b2f618b6-df96-4671-89d7-3a031a8d784b",
   "metadata": {},
   "outputs": [],
   "source": [
    "model3 = VGG16()\n",
    "opt = optimizers.Adam(learning_rate=0.0001)\n",
    "model3.compile(optimizer='adam', loss='sparse_categorical_crossentropy', metrics=['accuracy'])"
   ]
  },
  {
   "cell_type": "code",
   "execution_count": null,
   "id": "eac72ee0-5c71-4ed9-9a03-d4ac37598b34",
   "metadata": {},
   "outputs": [],
   "source": [
    "model1 = AlexNet()\n",
    "opt = optimizers.Adam(learning_rate=0.0001)\n",
    "model1.compile(optimizer='adam', loss='sparse_categorical_crossentropy', metrics=['accuracy'])"
   ]
  }
 ],
 "metadata": {
  "kaggle": {
   "accelerator": "none",
   "dataSources": [
    {
     "datasetId": 3452229,
     "sourceId": 6035080,
     "sourceType": "datasetVersion"
    },
    {
     "datasetId": 4789335,
     "sourceId": 8108219,
     "sourceType": "datasetVersion"
    }
   ],
   "dockerImageVersionId": 30683,
   "isGpuEnabled": false,
   "isInternetEnabled": true,
   "language": "python",
   "sourceType": "notebook"
  },
  "kernelspec": {
   "display_name": "Python 3 (ipykernel)",
   "language": "python",
   "name": "python3"
  },
  "language_info": {
   "codemirror_mode": {
    "name": "ipython",
    "version": 3
   },
   "file_extension": ".py",
   "mimetype": "text/x-python",
   "name": "python",
   "nbconvert_exporter": "python",
   "pygments_lexer": "ipython3",
   "version": "3.11.0"
  }
 },
 "nbformat": 4,
 "nbformat_minor": 5
}
